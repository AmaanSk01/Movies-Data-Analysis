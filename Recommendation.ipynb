{
 "cells": [
  {
   "cell_type": "code",
   "execution_count": 1,
   "id": "12c07d87-33b1-4b47-9295-1ebd6f92c6e1",
   "metadata": {},
   "outputs": [],
   "source": [
    "import pandas as pd"
   ]
  },
  {
   "cell_type": "code",
   "execution_count": 7,
   "id": "47352ea8-a971-42cc-8160-7702bb0cd71d",
   "metadata": {},
   "outputs": [],
   "source": [
    "from sklearn.feature_extraction.text import CountVectorizer\n",
    "from sklearn.metrics.pairwise import cosine_similarity"
   ]
  },
  {
   "cell_type": "code",
   "execution_count": 8,
   "id": "07aeeee2-4252-4fe9-a3b9-1ee134da82f1",
   "metadata": {},
   "outputs": [],
   "source": [
    "# Load the cleaned dataset"
   ]
  },
  {
   "cell_type": "code",
   "execution_count": 9,
   "id": "3c752080-5dbb-417d-a009-382bf999f58f",
   "metadata": {},
   "outputs": [],
   "source": [
    "data = pd.read_csv(\"Movies_Final.csv\")"
   ]
  },
  {
   "cell_type": "code",
   "execution_count": 11,
   "id": "3ea087cd-2b66-40c4-a1da-4c4c75d2a633",
   "metadata": {},
   "outputs": [
    {
     "data": {
      "text/html": [
       "<div>\n",
       "<style scoped>\n",
       "    .dataframe tbody tr th:only-of-type {\n",
       "        vertical-align: middle;\n",
       "    }\n",
       "\n",
       "    .dataframe tbody tr th {\n",
       "        vertical-align: top;\n",
       "    }\n",
       "\n",
       "    .dataframe thead th {\n",
       "        text-align: right;\n",
       "    }\n",
       "</style>\n",
       "<table border=\"1\" class=\"dataframe\">\n",
       "  <thead>\n",
       "    <tr style=\"text-align: right;\">\n",
       "      <th></th>\n",
       "      <th>director_name</th>\n",
       "      <th>num_critic_for_reviews</th>\n",
       "      <th>duration</th>\n",
       "      <th>actor_2_name</th>\n",
       "      <th>gross</th>\n",
       "      <th>genres</th>\n",
       "      <th>actor_1_name</th>\n",
       "      <th>movie_title</th>\n",
       "      <th>num_voted_users</th>\n",
       "      <th>cast_total_facebook_likes</th>\n",
       "      <th>actor_3_name</th>\n",
       "      <th>facenumber_in_poster</th>\n",
       "      <th>plot_keywords</th>\n",
       "      <th>movie_imdb_link</th>\n",
       "      <th>num_user_for_reviews</th>\n",
       "      <th>language</th>\n",
       "      <th>country</th>\n",
       "      <th>budget</th>\n",
       "      <th>title_year</th>\n",
       "      <th>imdb_score</th>\n",
       "    </tr>\n",
       "  </thead>\n",
       "  <tbody>\n",
       "    <tr>\n",
       "      <th>0</th>\n",
       "      <td>James Cameron</td>\n",
       "      <td>723.0</td>\n",
       "      <td>178.0</td>\n",
       "      <td>Joel David Moore</td>\n",
       "      <td>760505847.0</td>\n",
       "      <td>Action|Adventure|Fantasy|Sci-Fi</td>\n",
       "      <td>CCH Pounder</td>\n",
       "      <td>Avatar</td>\n",
       "      <td>886204</td>\n",
       "      <td>4834</td>\n",
       "      <td>Wes Studi</td>\n",
       "      <td>0.0</td>\n",
       "      <td>avatar|future|marine|native|paraplegic</td>\n",
       "      <td>http://www.imdb.com/title/tt0499549/?ref_=fn_t...</td>\n",
       "      <td>3054.0</td>\n",
       "      <td>English</td>\n",
       "      <td>USA</td>\n",
       "      <td>237000000.0</td>\n",
       "      <td>2009.0</td>\n",
       "      <td>7.9</td>\n",
       "    </tr>\n",
       "    <tr>\n",
       "      <th>1</th>\n",
       "      <td>Gore Verbinski</td>\n",
       "      <td>302.0</td>\n",
       "      <td>169.0</td>\n",
       "      <td>Orlando Bloom</td>\n",
       "      <td>309404152.0</td>\n",
       "      <td>Action|Adventure|Fantasy</td>\n",
       "      <td>Johnny Depp</td>\n",
       "      <td>Pirates of the Caribbean: At World's End</td>\n",
       "      <td>471220</td>\n",
       "      <td>48350</td>\n",
       "      <td>Jack Davenport</td>\n",
       "      <td>0.0</td>\n",
       "      <td>goddess|marriage ceremony|marriage proposal|pi...</td>\n",
       "      <td>http://www.imdb.com/title/tt0449088/?ref_=fn_t...</td>\n",
       "      <td>1238.0</td>\n",
       "      <td>English</td>\n",
       "      <td>USA</td>\n",
       "      <td>300000000.0</td>\n",
       "      <td>2007.0</td>\n",
       "      <td>7.1</td>\n",
       "    </tr>\n",
       "    <tr>\n",
       "      <th>2</th>\n",
       "      <td>Sam Mendes</td>\n",
       "      <td>602.0</td>\n",
       "      <td>148.0</td>\n",
       "      <td>Rory Kinnear</td>\n",
       "      <td>200074175.0</td>\n",
       "      <td>Action|Adventure|Thriller</td>\n",
       "      <td>Christoph Waltz</td>\n",
       "      <td>Spectre</td>\n",
       "      <td>275868</td>\n",
       "      <td>11700</td>\n",
       "      <td>Stephanie Sigman</td>\n",
       "      <td>1.0</td>\n",
       "      <td>bomb|espionage|sequel|spy|terrorist</td>\n",
       "      <td>http://www.imdb.com/title/tt2379713/?ref_=fn_t...</td>\n",
       "      <td>994.0</td>\n",
       "      <td>English</td>\n",
       "      <td>UK</td>\n",
       "      <td>245000000.0</td>\n",
       "      <td>2015.0</td>\n",
       "      <td>6.8</td>\n",
       "    </tr>\n",
       "    <tr>\n",
       "      <th>3</th>\n",
       "      <td>Christopher Nolan</td>\n",
       "      <td>813.0</td>\n",
       "      <td>164.0</td>\n",
       "      <td>Christian Bale</td>\n",
       "      <td>448130642.0</td>\n",
       "      <td>Action|Thriller</td>\n",
       "      <td>Tom Hardy</td>\n",
       "      <td>The Dark Knight Rises</td>\n",
       "      <td>1144337</td>\n",
       "      <td>106759</td>\n",
       "      <td>Joseph Gordon-Levitt</td>\n",
       "      <td>0.0</td>\n",
       "      <td>deception|imprisonment|lawlessness|police offi...</td>\n",
       "      <td>http://www.imdb.com/title/tt1345836/?ref_=fn_t...</td>\n",
       "      <td>2701.0</td>\n",
       "      <td>English</td>\n",
       "      <td>USA</td>\n",
       "      <td>250000000.0</td>\n",
       "      <td>2012.0</td>\n",
       "      <td>8.5</td>\n",
       "    </tr>\n",
       "    <tr>\n",
       "      <th>4</th>\n",
       "      <td>Doug Walker</td>\n",
       "      <td>NaN</td>\n",
       "      <td>NaN</td>\n",
       "      <td>Rob Walker</td>\n",
       "      <td>NaN</td>\n",
       "      <td>Documentary</td>\n",
       "      <td>Doug Walker</td>\n",
       "      <td>Star Wars: Episode VII - The Force Awakens    ...</td>\n",
       "      <td>8</td>\n",
       "      <td>143</td>\n",
       "      <td>NaN</td>\n",
       "      <td>0.0</td>\n",
       "      <td>NaN</td>\n",
       "      <td>http://www.imdb.com/title/tt5289954/?ref_=fn_t...</td>\n",
       "      <td>NaN</td>\n",
       "      <td>NaN</td>\n",
       "      <td>NaN</td>\n",
       "      <td>NaN</td>\n",
       "      <td>NaN</td>\n",
       "      <td>7.1</td>\n",
       "    </tr>\n",
       "  </tbody>\n",
       "</table>\n",
       "</div>"
      ],
      "text/plain": [
       "       director_name  num_critic_for_reviews  duration      actor_2_name  \\\n",
       "0      James Cameron                   723.0     178.0  Joel David Moore   \n",
       "1     Gore Verbinski                   302.0     169.0     Orlando Bloom   \n",
       "2         Sam Mendes                   602.0     148.0      Rory Kinnear   \n",
       "3  Christopher Nolan                   813.0     164.0    Christian Bale   \n",
       "4        Doug Walker                     NaN       NaN        Rob Walker   \n",
       "\n",
       "         gross                           genres     actor_1_name  \\\n",
       "0  760505847.0  Action|Adventure|Fantasy|Sci-Fi      CCH Pounder   \n",
       "1  309404152.0         Action|Adventure|Fantasy      Johnny Depp   \n",
       "2  200074175.0        Action|Adventure|Thriller  Christoph Waltz   \n",
       "3  448130642.0                  Action|Thriller        Tom Hardy   \n",
       "4          NaN                      Documentary      Doug Walker   \n",
       "\n",
       "                                         movie_title  num_voted_users  \\\n",
       "0                                            Avatar            886204   \n",
       "1          Pirates of the Caribbean: At World's End            471220   \n",
       "2                                           Spectre            275868   \n",
       "3                             The Dark Knight Rises           1144337   \n",
       "4  Star Wars: Episode VII - The Force Awakens    ...                8   \n",
       "\n",
       "   cast_total_facebook_likes          actor_3_name  facenumber_in_poster  \\\n",
       "0                       4834             Wes Studi                   0.0   \n",
       "1                      48350        Jack Davenport                   0.0   \n",
       "2                      11700      Stephanie Sigman                   1.0   \n",
       "3                     106759  Joseph Gordon-Levitt                   0.0   \n",
       "4                        143                   NaN                   0.0   \n",
       "\n",
       "                                       plot_keywords  \\\n",
       "0             avatar|future|marine|native|paraplegic   \n",
       "1  goddess|marriage ceremony|marriage proposal|pi...   \n",
       "2                bomb|espionage|sequel|spy|terrorist   \n",
       "3  deception|imprisonment|lawlessness|police offi...   \n",
       "4                                                NaN   \n",
       "\n",
       "                                     movie_imdb_link  num_user_for_reviews  \\\n",
       "0  http://www.imdb.com/title/tt0499549/?ref_=fn_t...                3054.0   \n",
       "1  http://www.imdb.com/title/tt0449088/?ref_=fn_t...                1238.0   \n",
       "2  http://www.imdb.com/title/tt2379713/?ref_=fn_t...                 994.0   \n",
       "3  http://www.imdb.com/title/tt1345836/?ref_=fn_t...                2701.0   \n",
       "4  http://www.imdb.com/title/tt5289954/?ref_=fn_t...                   NaN   \n",
       "\n",
       "  language country       budget  title_year  imdb_score  \n",
       "0  English     USA  237000000.0      2009.0         7.9  \n",
       "1  English     USA  300000000.0      2007.0         7.1  \n",
       "2  English      UK  245000000.0      2015.0         6.8  \n",
       "3  English     USA  250000000.0      2012.0         8.5  \n",
       "4      NaN     NaN          NaN         NaN         7.1  "
      ]
     },
     "execution_count": 11,
     "metadata": {},
     "output_type": "execute_result"
    }
   ],
   "source": [
    "data.head()"
   ]
  },
  {
   "cell_type": "code",
   "execution_count": null,
   "id": "d61819bf-a836-4aa2-a634-d1f2f4d5f90c",
   "metadata": {},
   "outputs": [],
   "source": [
    "# Clean the 'movie_title' column by stripping extra spaces and converting to lowercase"
   ]
  },
  {
   "cell_type": "code",
   "execution_count": 10,
   "id": "753e6b75-2315-485d-9fd5-7eee7155164d",
   "metadata": {},
   "outputs": [],
   "source": [
    "data['movie_title'] = data['movie_title'].str.strip().str.lower()"
   ]
  },
  {
   "cell_type": "code",
   "execution_count": null,
   "id": "bb0b84df-bf11-491b-b563-56f163fe360f",
   "metadata": {},
   "outputs": [],
   "source": [
    "# Fill any NaN values with an empty string"
   ]
  },
  {
   "cell_type": "code",
   "execution_count": 11,
   "id": "d55c89ff-5612-4302-b637-33dbfed4ca34",
   "metadata": {},
   "outputs": [],
   "source": [
    "data['director_name'] = data['director_name'].fillna('')\n",
    "data['genres'] = data['genres'].fillna('')"
   ]
  },
  {
   "cell_type": "code",
   "execution_count": null,
   "id": "a212dda4-4a01-4200-859d-0e0d86943ca2",
   "metadata": {},
   "outputs": [],
   "source": [
    "# Combine relevant features into a single column"
   ]
  },
  {
   "cell_type": "code",
   "execution_count": 12,
   "id": "a6c80ddb-2fc2-469b-b58e-60d572c89f38",
   "metadata": {},
   "outputs": [],
   "source": [
    "data['combined_features'] = data['genres'] + ' ' + data['director_name']\n"
   ]
  },
  {
   "cell_type": "code",
   "execution_count": 27,
   "id": "34e82add-6826-4a0a-9b42-42ad9f2e6709",
   "metadata": {},
   "outputs": [],
   "source": [
    "# Convert the combined text data to a matrix of token counts"
   ]
  },
  {
   "cell_type": "code",
   "execution_count": 13,
   "id": "970dd992-4760-4395-9c77-a757f3fbea8b",
   "metadata": {},
   "outputs": [],
   "source": [
    "count_vectorizer = CountVectorizer(stop_words='english')\n",
    "count_matrix = count_vectorizer.fit_transform(data['combined_features'])"
   ]
  },
  {
   "cell_type": "code",
   "execution_count": null,
   "id": "96c49c45-400a-42b6-a1e6-a3199b59480c",
   "metadata": {},
   "outputs": [],
   "source": [
    "# Compute cosine similarity based on the count matrix"
   ]
  },
  {
   "cell_type": "code",
   "execution_count": 14,
   "id": "7b970160-0aad-4c8d-98c5-ffbdf1575198",
   "metadata": {},
   "outputs": [],
   "source": [
    "cosine_sim = cosine_similarity(count_matrix, count_matrix)\n"
   ]
  },
  {
   "cell_type": "code",
   "execution_count": null,
   "id": "5f89cf74-e1d1-447a-bcb1-1ae657ace11a",
   "metadata": {},
   "outputs": [],
   "source": [
    "# Function to get movie recommendations based on similarity scores"
   ]
  },
  {
   "cell_type": "code",
   "execution_count": 15,
   "id": "325fd1c6-0596-4d78-8d3a-706cd4e603bc",
   "metadata": {},
   "outputs": [],
   "source": [
    "def get_recommendations(title, cosine_sim=cosine_sim):\n",
    "    # Get the index of the movie that matches the title\n",
    "    idx = data[data['movie_title'].str.lower() == title.lower()].index[0]\n",
    "\n",
    "    # Get the similarity scores for all movies\n",
    "    sim_scores = list(enumerate(cosine_sim[idx]))\n",
    "\n",
    "    # Sort the movies based on the similarity scores (from highest to lowest)\n",
    "    sim_scores = sorted(sim_scores, key=lambda x: x[1], reverse=True)\n",
    "\n",
    "    # Get the indices of the top 10 most similar movies\n",
    "    sim_scores = sim_scores[1:11]\n",
    "\n",
    "    # Get the movie titles\n",
    "    movie_indices = [i[0] for i in sim_scores]\n",
    "    \n",
    "    return data['movie_title'].iloc[movie_indices]\n"
   ]
  },
  {
   "cell_type": "code",
   "execution_count": null,
   "id": "fb503851-5b08-49d6-b35b-3cdeaa94ae37",
   "metadata": {},
   "outputs": [],
   "source": [
    "# Test the recommendation system"
   ]
  },
  {
   "cell_type": "code",
   "execution_count": 28,
   "id": "9201dae9-231a-4a98-9ef1-5937c43a1ac6",
   "metadata": {},
   "outputs": [
    {
     "name": "stdout",
     "output_type": "stream",
     "text": [
      "Movies similar to 'Avatar':\n",
      "\n",
      "2486                                          aliens\n",
      "288                       terminator 2: judgment day\n",
      "3575                                  the terminator\n",
      "1702                           dragonball: evolution\n",
      "95                           guardians of the galaxy\n",
      "15                                      man of steel\n",
      "39                          the amazing spider-man 2\n",
      "236     star wars: episode iii - revenge of the sith\n",
      "237     star wars: episode ii - attack of the clones\n",
      "239                                    the wolverine\n",
      "Name: movie_title, dtype: object\n"
     ]
    }
   ],
   "source": [
    "movie_name = 'Avatar'  # You can replace 'Avatar' with any movie title\n",
    "recommended_movies = get_recommendations(movie_name)\n",
    "print(f\"Movies similar to '{movie_name}':\\n\")\n",
    "print(recommended_movies)\n"
   ]
  },
  {
   "cell_type": "code",
   "execution_count": null,
   "id": "30b7dc6e-8848-478c-bc44-a739f2d24351",
   "metadata": {},
   "outputs": [],
   "source": [
    "# Other Examples"
   ]
  },
  {
   "cell_type": "code",
   "execution_count": 29,
   "id": "601c41c5-c92d-436d-b9d6-231cd95aca48",
   "metadata": {},
   "outputs": [
    {
     "name": "stdout",
     "output_type": "stream",
     "text": [
      "Movies similar to 'Inception':\n",
      "\n",
      "96                     interstellar\n",
      "968                i am number four\n",
      "1367                   the 5th wave\n",
      "3             the dark knight rises\n",
      "120                   batman begins\n",
      "28                       battleship\n",
      "29                   jurassic world\n",
      "57                 star trek beyond\n",
      "76                       waterworld\n",
      "77      g.i. joe: the rise of cobra\n",
      "Name: movie_title, dtype: object\n"
     ]
    }
   ],
   "source": [
    "movie_name = 'Inception'\n",
    "recommended_movies = get_recommendations(movie_name)\n",
    "print(f\"Movies similar to '{movie_name}':\\n\")\n",
    "print(recommended_movies)"
   ]
  },
  {
   "cell_type": "code",
   "execution_count": 30,
   "id": "cc8cbf25-15bf-4bf2-b799-a978e1f18e7f",
   "metadata": {},
   "outputs": [
    {
     "name": "stdout",
     "output_type": "stream",
     "text": [
      "Movies similar to 'The Dark Knight':\n",
      "\n",
      "3299       the way of the gun\n",
      "3       the dark knight rises\n",
      "2075                    rogue\n",
      "2828               the border\n",
      "3376               the player\n",
      "3507                   nikita\n",
      "2842               young guns\n",
      "177                miami vice\n",
      "1066                 insomnia\n",
      "2316      a most violent year\n",
      "Name: movie_title, dtype: object\n"
     ]
    }
   ],
   "source": [
    "movie_name = 'The Dark Knight'\n",
    "recommended_movies = get_recommendations(movie_name)\n",
    "print(f\"Movies similar to '{movie_name}':\\n\")\n",
    "print(recommended_movies)"
   ]
  },
  {
   "cell_type": "code",
   "execution_count": 31,
   "id": "90cd36ad-09ff-48c6-adbd-aee5303c1052",
   "metadata": {},
   "outputs": [
    {
     "name": "stdout",
     "output_type": "stream",
     "text": [
      "Movies similar to 'Titanic':\n",
      "\n",
      "2582                         the immigrant\n",
      "2666                the remains of the day\n",
      "2986                            two lovers\n",
      "3387    the city of your final destination\n",
      "3396                           howards end\n",
      "4057                    a room with a view\n",
      "4171                               maurice\n",
      "1444                         hit the floor\n",
      "3303            the bold and the beautiful\n",
      "3419                     wuthering heights\n",
      "Name: movie_title, dtype: object\n"
     ]
    }
   ],
   "source": [
    "movie_name = 'Titanic'\n",
    "recommended_movies = get_recommendations(movie_name)\n",
    "print(f\"Movies similar to '{movie_name}':\\n\")\n",
    "print(recommended_movies)"
   ]
  },
  {
   "cell_type": "code",
   "execution_count": null,
   "id": "ea0028ee-cf27-45b8-8352-6c972042583d",
   "metadata": {},
   "outputs": [],
   "source": [
    "movie_name ='avengers'\n",
    "recommend_movie = get_recommendation(movie_name)\n",
    "print(f\"movies similar to '{movie_naame}'\\n\")\n",
    "print(recommended_movie)"
   ]
  }
 ],
 "metadata": {
  "kernelspec": {
   "display_name": "Python 3 (ipykernel)",
   "language": "python",
   "name": "python3"
  },
  "language_info": {
   "codemirror_mode": {
    "name": "ipython",
    "version": 3
   },
   "file_extension": ".py",
   "mimetype": "text/x-python",
   "name": "python",
   "nbconvert_exporter": "python",
   "pygments_lexer": "ipython3",
   "version": "3.12.3"
  }
 },
 "nbformat": 4,
 "nbformat_minor": 5
}
